{
 "cells": [
  {
   "cell_type": "markdown",
   "metadata": {},
   "source": [
    "# Online Reviews Analysis - NLP - (Part-1)\n",
    "\n",
    "## Walmart online reviews analysis\n",
    "\n",
    "Online reviews are important for both seller and customer to evaluate a product. however, it is time-consuming to go through all product reviews to get valuable insights. This analysis will go through two methods that can be used to analyze customers' reviews. I used a Walmart [reviews-scrapper](https://github.com/AnasBuhayh/reviews-scrapper) script to collect the reviews from [Walmart.com](https://www.walmart.com/). The script is available in my repo. This analysis will contain two methods. The first method is to collect reviews based on Term Frequency known as [TF](https://www.opinosis-analytics.com/knowledge-base/term-frequency-explained/#.X9ZqothKiHs). This is used to get reviews that are more representative of the total reviews. The second method is to apply sentiment analysis for sentences based on Term Frequency - Inverse Document Frequency is known as [TF-IDF](https://monkeylearn.com/blog/what-is-tf-idf/#:~:text=TF%2DIDF%20is%20a%20statistical,across%20a%20set%20of%20documents.) to get a feel of what do people feel about a specific feature.\n",
    "\n",
    "The goal of this article is to provide the knowledge to implement the analysis and providing a few chunks of code that might be helpful for some people. required knowledge of python and natural language processing is preferred to get the most of this article."
   ]
  },
  {
   "cell_type": "markdown",
   "metadata": {},
   "source": [
    "## Importing data\n",
    "\n",
    "Let's start with importing the data collected by the [reviews-scrapper](https://github.com/AnasBuhayh/reviews-scrapper). I will drop the product name form the dataset for privacy. We can also print out some summaries to see what do we need to work on."
   ]
  },
  {
   "cell_type": "code",
   "execution_count": 362,
   "metadata": {},
   "outputs": [],
   "source": [
    "import pandas as pd\n",
    "import numpy as np\n",
    "import matplotlib.pyplot as plt\n",
    "from IPython.display import display\n",
    "\n",
    "df = pd.read_csv('product_reviews.csv').drop(columns=['Product'], axis=1)"
   ]
  },
  {
   "cell_type": "markdown",
   "metadata": {},
   "source": [
    "let's get to know our data before doing any analysis by printing the head of the data"
   ]
  },
  {
   "cell_type": "code",
   "execution_count": 363,
   "metadata": {},
   "outputs": [
    {
     "data": {
      "text/html": [
       "<div>\n",
       "<style scoped>\n",
       "    .dataframe tbody tr th:only-of-type {\n",
       "        vertical-align: middle;\n",
       "    }\n",
       "\n",
       "    .dataframe tbody tr th {\n",
       "        vertical-align: top;\n",
       "    }\n",
       "\n",
       "    .dataframe thead th {\n",
       "        text-align: right;\n",
       "    }\n",
       "</style>\n",
       "<table border=\"1\" class=\"dataframe\">\n",
       "  <thead>\n",
       "    <tr style=\"text-align: right;\">\n",
       "      <th></th>\n",
       "      <th>Date</th>\n",
       "      <th>Title</th>\n",
       "      <th>Review_Text</th>\n",
       "      <th>Rating</th>\n",
       "    </tr>\n",
       "  </thead>\n",
       "  <tbody>\n",
       "    <tr>\n",
       "      <th>0</th>\n",
       "      <td>July 30, 2020</td>\n",
       "      <td>none</td>\n",
       "      <td>Only problem. This model cannot be synced to X...</td>\n",
       "      <td>5.0</td>\n",
       "    </tr>\n",
       "    <tr>\n",
       "      <th>1</th>\n",
       "      <td>August 19, 2020</td>\n",
       "      <td>Great TV for the price! No complaints!</td>\n",
       "      <td>Haven't been using this TV for too long, but s...</td>\n",
       "      <td>5.0</td>\n",
       "    </tr>\n",
       "    <tr>\n",
       "      <th>2</th>\n",
       "      <td>April 6, 2020</td>\n",
       "      <td>Great price great tv. I made a great choice</td>\n",
       "      <td>I purchased my tv a few weeks ago. It was deli...</td>\n",
       "      <td>5.0</td>\n",
       "    </tr>\n",
       "    <tr>\n",
       "      <th>3</th>\n",
       "      <td>August 24, 2020</td>\n",
       "      <td>great value for all primary features</td>\n",
       "      <td>most cost-effective TV on the market. I have b...</td>\n",
       "      <td>5.0</td>\n",
       "    </tr>\n",
       "    <tr>\n",
       "      <th>4</th>\n",
       "      <td>November 21, 2020</td>\n",
       "      <td>Decent first leap into the 4k world</td>\n",
       "      <td>So I basically got this to support my xbox ser...</td>\n",
       "      <td>5.0</td>\n",
       "    </tr>\n",
       "  </tbody>\n",
       "</table>\n",
       "</div>"
      ],
      "text/plain": [
       "                Date                                        Title  \\\n",
       "0      July 30, 2020                                         none   \n",
       "1    August 19, 2020       Great TV for the price! No complaints!   \n",
       "2      April 6, 2020  Great price great tv. I made a great choice   \n",
       "3    August 24, 2020         great value for all primary features   \n",
       "4  November 21, 2020          Decent first leap into the 4k world   \n",
       "\n",
       "                                         Review_Text  Rating  \n",
       "0  Only problem. This model cannot be synced to X...     5.0  \n",
       "1  Haven't been using this TV for too long, but s...     5.0  \n",
       "2  I purchased my tv a few weeks ago. It was deli...     5.0  \n",
       "3  most cost-effective TV on the market. I have b...     5.0  \n",
       "4  So I basically got this to support my xbox ser...     5.0  "
      ]
     },
     "metadata": {},
     "output_type": "display_data"
    }
   ],
   "source": [
    "display(df.head())"
   ]
  },
  {
   "cell_type": "markdown",
   "metadata": {},
   "source": [
    "As we can see from the table head, the data has 4 columns. We are only interested in the review and rating. Now we know how our data looks like, let's see what are the data types of our columns and if we have any missing values."
   ]
  },
  {
   "cell_type": "code",
   "execution_count": 364,
   "metadata": {},
   "outputs": [
    {
     "name": "stdout",
     "output_type": "stream",
     "text": [
      "<class 'pandas.core.frame.DataFrame'>\n",
      "RangeIndex: 3660 entries, 0 to 3659\n",
      "Data columns (total 4 columns):\n",
      " #   Column       Non-Null Count  Dtype  \n",
      "---  ------       --------------  -----  \n",
      " 0   Date         3660 non-null   object \n",
      " 1   Title        3660 non-null   object \n",
      " 2   Review_Text  3660 non-null   object \n",
      " 3   Rating       3660 non-null   float64\n",
      "dtypes: float64(1), object(3)\n",
      "memory usage: 114.5+ KB\n"
     ]
    },
    {
     "data": {
      "text/plain": [
       "None"
      ]
     },
     "metadata": {},
     "output_type": "display_data"
    },
    {
     "data": {
      "text/plain": [
       "Date           0\n",
       "Title          0\n",
       "Review_Text    0\n",
       "Rating         0\n",
       "dtype: int64"
      ]
     },
     "metadata": {},
     "output_type": "display_data"
    }
   ],
   "source": [
    "display(df.info())\n",
    "display(df.isna().sum())"
   ]
  },
  {
   "cell_type": "markdown",
   "metadata": {},
   "source": [
    "No missing values, looks like we are good! are we thoough? let's check"
   ]
  },
  {
   "cell_type": "code",
   "execution_count": 365,
   "metadata": {},
   "outputs": [
    {
     "name": "stdout",
     "output_type": "stream",
     "text": [
      "Missing Titles:  1829\n",
      "Missing Reviews:  1245\n"
     ]
    }
   ],
   "source": [
    "print(\"Missing Titles: \", len(df[df['Title'] == 'none']))\n",
    "print(\"Missing Reviews: \",len(df[df['Review_Text'] == 'none']))"
   ]
  },
  {
   "cell_type": "markdown",
   "metadata": {},
   "source": [
    "The [reviews-scrapper](https://github.com/AnasBuhayh/reviews-scrapper) returns the empty values on Walmart's website as 'none'. so please keep that in mind if you are planning to use it."
   ]
  },
  {
   "cell_type": "markdown",
   "metadata": {},
   "source": [
    "The goal of this analysis is to analyze review bodies and not titles as the body usually have more valuable content. therefore, let's remove the reviews that contain the word 'none'."
   ]
  },
  {
   "cell_type": "code",
   "execution_count": 366,
   "metadata": {},
   "outputs": [],
   "source": [
    "df = df[df['Review_Text'] != 'none']"
   ]
  },
  {
   "cell_type": "markdown",
   "metadata": {},
   "source": [
    "## The Analysis\n",
    "\n",
    "### Summarizing Reviews\n",
    "\n",
    "The first method we will use is summarizing the reviews. The question is, how can we get the most valuable reviews? and what makes a review more valuable than the other?\n",
    "\n",
    "to answer the questions, we will use the term frequency to summarize the reviews and collect the most relevant ones. This method is about calculating the ranking of each word based on how many times it shows up in the text. Every review ranking would be the sum of the words rankings that it contains. We will create a function that will receive a collection of reviews and return the ones that have the highest ranking."
   ]
  },
  {
   "cell_type": "code",
   "execution_count": 367,
   "metadata": {},
   "outputs": [],
   "source": [
    "from nltk.tokenize import sent_tokenize, word_tokenize\n",
    "from nltk.probability import FreqDist\n",
    "from nltk.corpus import stopwords\n",
    "import collections\n",
    "from heapq import nlargest \n",
    "from string import punctuation\n",
    "\n",
    "def summarize(reviews, n):\n",
    "    \n",
    "    text = ' '.join(reviews)\n",
    "    corpus = word_tokenize(text.lower()) # creating a bag of words\n",
    "    _stopwords = set(stopwords.words('english') + list(punctuation))\n",
    "\n",
    "    corpus = [word for word in corpus if word not in _stopwords] # stripping stopwords\n",
    "    freq = FreqDist(corpus) # frequency distribution for all the non-stopwords\n",
    "\n",
    "    ranking = collections.defaultdict(int) #to avoid KeyError\n",
    "\n",
    "    # now let's break down how this loop works\n",
    "    for i, sent in enumerate(reviews): # loop through the reviews we have\n",
    "        for w in word_tokenize(sent.lower()): # loop through the words in the reviews\n",
    "            if w in freq: # if the word in our frquenct object\n",
    "                ranking[i] += freq[w] # if the word to the review, add the rank \n",
    "\n",
    "    reviews_idx = nlargest(n, ranking, key=ranking.get) # get the n reviews with the highest ranking\n",
    "    return [reviews[j] for j in sorted(reviews_idx)]"
   ]
  },
  {
   "cell_type": "markdown",
   "metadata": {},
   "source": [
    "Now we call the function and get the review is the highest-ranking"
   ]
  },
  {
   "cell_type": "code",
   "execution_count": 368,
   "metadata": {},
   "outputs": [
    {
     "data": {
      "text/plain": [
       "[\"This is my first experience with a smart tv. Over all I really like it. It is a good screen size, has good picture quality, and has excellent sound. Some things you need to know- The front of the box shows 2 remotes. You only get one remote. It is the Roku remote. The big draw back here is there are no numbers on the remote so you can't just punch in a channel number. You have to scroll thru all the channels. Not a big deal if you have antenna tv and only have 30 or so channels. But even then it is aggravating. So if you have satellite and have over 300 channels it is going to be aggravating when you are on channel 23 and need to scroll to 240. Another thing I do not like is the TV picks your favorite channels for you. Those channels are then put separate from the other channels. So if you are on channel 27 and want to go to 29 and it has picked 29 as a favorite for you (it chooses them by how often you watch them) then when you scroll up through the channels it goes 27, 28, 30. Number 29 is taken out and put in your favorites. So you have to scroll back to the first to access the favorite channels. You do get an on screen tv guide even with antenna tv. So that is a good thing. I had to call support to get some help setting the TV up. You will be talking to someone in another country but the lady talked to was really nice and really helpful even though at times extremely hard to understand. You do not get any kind of book with the tv. I guess you are suppose to just go online. I could not even really find any type of owner manual. You get a folded up paper that is a set up guide with the TV. Most questions I have had I either googled or sent an email. Sending an email has been my best communication. They always have answered. I would recommend this TV and if I wanted another large screen or smart tv I would go with Roku. I have also recently learned the tv (being hooked to the internet) basically does spy on you. It knows what dvds you watch. I guess that is not a big deal. My computer knows what websites I visit. So it is no different. I did not realize this was happening until I popped an old dvd in and a disclaimer pops up apologizing because the show was from long ago and may be offensive. It was a Tom and Jerry cartoon. smh This model does not have a camera nor does it have a microphone. You can't just tell the tv to go to this or that channel. The TV literally has thousands of apps you can download. Some you need a subscription for and you will pay for it. Some are free. Or they have free stuff and things you can pay for. Roku also has a channel that has tons of free stuff on it as well. You also do not have to connect a credit card to your Roku to be able to have a Roku account. And you will need one to use the TV. There is a way to bypass that when you set up the account. You may need to contact support for help. Having the CC already connected make is easier if you plan to purchase a lot.\"]"
      ]
     },
     "execution_count": 368,
     "metadata": {},
     "output_type": "execute_result"
    }
   ],
   "source": [
    "reviews = df[df['Rating'] == 5]['Review_Text'].tolist()\n",
    "summarize(reviews, 1)"
   ]
  },
  {
   "cell_type": "markdown",
   "metadata": {},
   "source": [
    "## Sentiment  Analysis\n",
    "\n",
    "Now let's say that you want to know how people feel about specific features in your product, the sound of the TV for example. to do this, we can calculate the sentiment of the sentence where the word \"sound\" is mentioned. Then associate the sentiment value to the word \"sound\". Then we can calculate the average of the associated values.\n",
    "\n",
    "But What if you want to get the most mentioned features in the reviews without going through them one by one to find the most frequent features? for that, we can use what is known as [TF-IDF](https://programminghistorian.org/en/lessons/analyzing-documents-with-tfidf). In simple words, Both TF (term frequency) and IDF (inverse document frequency) measures how many times does a word shows up in a document. However, the TF counts how many times does the word occurs in the document, and the IDF measures how common or rare the word is in the document. Where for IDF, the closer the word's value to 0 the more common it is. we multiply the result of TF by the IDF to come up with the weight of importance for each word."
   ]
  },
  {
   "cell_type": "code",
   "execution_count": 369,
   "metadata": {},
   "outputs": [],
   "source": [
    "from sklearn.feature_extraction.text import TfidfVectorizer\n",
    "from nltk.tag import pos_tag\n",
    "import nltk\n",
    "import re\n",
    "\n",
    "corpus = df['Review_Text'].tolist()\n",
    "corpus = ' '.join(corpus).lower()\n",
    "corpus = corpus.split() # creating a bag of words\n",
    "\n",
    "# keeping the nouns only \n",
    "tags = nltk.pos_tag(corpus)\n",
    "corpus = [word for word,pos in tags if (pos == 'NN' or pos == 'NNP' or pos == 'NNS' or pos == 'NNPS')]\n",
    "\n",
    "vectorizer = TfidfVectorizer(max_df=.65, min_df=1, stop_words='english', use_idf=True, norm=None, token_pattern=u'[a-zA-Z]{3,}')\n",
    "doc_term_matrix = vectorizer.fit_transform(corpus)\n",
    "\n",
    "tf_idf = pd.DataFrame(doc_term_matrix.toarray(), columns=vectorizer.get_feature_names())"
   ]
  },
  {
   "cell_type": "markdown",
   "metadata": {},
   "source": [
    "We can display the words by their TF-IDF weight to see what are the most valuable nouns that we can use for our sentiment analysis"
   ]
  },
  {
   "cell_type": "code",
   "execution_count": 370,
   "metadata": {},
   "outputs": [
    {
     "data": {
      "text/html": [
       "<div>\n",
       "<style scoped>\n",
       "    .dataframe tbody tr th:only-of-type {\n",
       "        vertical-align: middle;\n",
       "    }\n",
       "\n",
       "    .dataframe tbody tr th {\n",
       "        vertical-align: top;\n",
       "    }\n",
       "\n",
       "    .dataframe thead th {\n",
       "        text-align: right;\n",
       "    }\n",
       "</style>\n",
       "<table border=\"1\" class=\"dataframe\">\n",
       "  <thead>\n",
       "    <tr style=\"text-align: right;\">\n",
       "      <th></th>\n",
       "      <th>word</th>\n",
       "      <th>weight</th>\n",
       "    </tr>\n",
       "  </thead>\n",
       "  <tbody>\n",
       "    <tr>\n",
       "      <th>0</th>\n",
       "      <td>picture</td>\n",
       "      <td>0.170737</td>\n",
       "    </tr>\n",
       "    <tr>\n",
       "      <th>1</th>\n",
       "      <td>price</td>\n",
       "      <td>0.109277</td>\n",
       "    </tr>\n",
       "    <tr>\n",
       "      <th>2</th>\n",
       "      <td>roku</td>\n",
       "      <td>0.096776</td>\n",
       "    </tr>\n",
       "    <tr>\n",
       "      <th>3</th>\n",
       "      <td>quality</td>\n",
       "      <td>0.090247</td>\n",
       "    </tr>\n",
       "    <tr>\n",
       "      <th>4</th>\n",
       "      <td>sound</td>\n",
       "      <td>0.080850</td>\n",
       "    </tr>\n",
       "    <tr>\n",
       "      <th>5</th>\n",
       "      <td>tcl</td>\n",
       "      <td>0.073934</td>\n",
       "    </tr>\n",
       "    <tr>\n",
       "      <th>6</th>\n",
       "      <td>screen</td>\n",
       "      <td>0.060982</td>\n",
       "    </tr>\n",
       "    <tr>\n",
       "      <th>7</th>\n",
       "      <td>remote</td>\n",
       "      <td>0.049394</td>\n",
       "    </tr>\n",
       "    <tr>\n",
       "      <th>8</th>\n",
       "      <td>time</td>\n",
       "      <td>0.039147</td>\n",
       "    </tr>\n",
       "    <tr>\n",
       "      <th>9</th>\n",
       "      <td>year</td>\n",
       "      <td>0.038732</td>\n",
       "    </tr>\n",
       "    <tr>\n",
       "      <th>10</th>\n",
       "      <td>years</td>\n",
       "      <td>0.037692</td>\n",
       "    </tr>\n",
       "    <tr>\n",
       "      <th>11</th>\n",
       "      <td>brand</td>\n",
       "      <td>0.036223</td>\n",
       "    </tr>\n",
       "    <tr>\n",
       "      <th>12</th>\n",
       "      <td>room</td>\n",
       "      <td>0.035590</td>\n",
       "    </tr>\n",
       "    <tr>\n",
       "      <th>13</th>\n",
       "      <td>months</td>\n",
       "      <td>0.034101</td>\n",
       "    </tr>\n",
       "    <tr>\n",
       "      <th>14</th>\n",
       "      <td>tvs</td>\n",
       "      <td>0.032813</td>\n",
       "    </tr>\n",
       "    <tr>\n",
       "      <th>15</th>\n",
       "      <td>box</td>\n",
       "      <td>0.032382</td>\n",
       "    </tr>\n",
       "    <tr>\n",
       "      <th>16</th>\n",
       "      <td>money</td>\n",
       "      <td>0.031948</td>\n",
       "    </tr>\n",
       "    <tr>\n",
       "      <th>17</th>\n",
       "      <td>purchase</td>\n",
       "      <td>0.031731</td>\n",
       "    </tr>\n",
       "    <tr>\n",
       "      <th>18</th>\n",
       "      <td>cable</td>\n",
       "      <td>0.030860</td>\n",
       "    </tr>\n",
       "    <tr>\n",
       "      <th>19</th>\n",
       "      <td>apps</td>\n",
       "      <td>0.028878</td>\n",
       "    </tr>\n",
       "  </tbody>\n",
       "</table>\n",
       "</div>"
      ],
      "text/plain": [
       "        word    weight\n",
       "0    picture  0.170737\n",
       "1      price  0.109277\n",
       "2       roku  0.096776\n",
       "3    quality  0.090247\n",
       "4      sound  0.080850\n",
       "5        tcl  0.073934\n",
       "6     screen  0.060982\n",
       "7     remote  0.049394\n",
       "8       time  0.039147\n",
       "9       year  0.038732\n",
       "10     years  0.037692\n",
       "11     brand  0.036223\n",
       "12      room  0.035590\n",
       "13    months  0.034101\n",
       "14       tvs  0.032813\n",
       "15       box  0.032382\n",
       "16     money  0.031948\n",
       "17  purchase  0.031731\n",
       "18     cable  0.030860\n",
       "19      apps  0.028878"
      ]
     },
     "metadata": {},
     "output_type": "display_data"
    }
   ],
   "source": [
    "tf_idf_rank = tf_idf.mean().sort_values(ascending=False).head(20)\n",
    "tf_idf_rank = tf_idf_rank.to_frame().reset_index()\n",
    "tf_idf_rank = tf_idf_rank.rename(columns={\"index\": \"word\", 0:\"weight\"})\n",
    "display(tf_idf_rank)"
   ]
  },
  {
   "cell_type": "markdown",
   "metadata": {},
   "source": [
    "Let's drop the unwanted words from the list and plot our data for better visualization"
   ]
  },
  {
   "cell_type": "code",
   "execution_count": 371,
   "metadata": {},
   "outputs": [
    {
     "data": {
      "image/png": "[encoded data removed]",
      "text/plain": [
       "<Figure size 432x288 with 1 Axes>"
      ]
     },
     "metadata": {
      "needs_background": "light"
     },
     "output_type": "display_data"
    }
   ],
   "source": [
    "import seaborn as sns\n",
    "\n",
    "unwanted_words = ['roku','tcl','year','years','room','months']\n",
    "tf_idf_rank = tf_idf_rank[~tf_idf_rank['word'].isin(unwanted_words)]\n",
    "tf_idf_rank.reset_index(drop=True)\n",
    "\n",
    "ax = sns.barplot(x=\"weight\", y=\"word\", data=tf_idf_rank, palette=\"Blues_d\").set_title('TF-IDF Weight')"
   ]
  },
  {
   "cell_type": "markdown",
   "metadata": {},
   "source": [
    "The bar chart represents the weight of the words using TF-IDF. According to our analysis, the word picture has the highest weight or TF-IDF score. "
   ]
  },
  {
   "cell_type": "markdown",
   "metadata": {},
   "source": [
    "now we have the words with the highest weights, we can calculate the sentenses where these words are mentioned. We will use [TextBlob](https://textblob.readthedocs.io/en/dev/) to calculate the sentiment . "
   ]
  },
  {
   "cell_type": "markdown",
   "metadata": {},
   "source": [
    "> According to the documentation \"The polarity score is a float within the range -1.0, 1.0. The subjectivity is a float within the range 0.0, 1.0 where 0.0 is very objective and 1.0 is very subjective.\""
   ]
  },
  {
   "cell_type": "markdown",
   "metadata": {},
   "source": [
    "I will make a (+1) shift for the polarity so we can end up with a value between 0 and 2. This can help with calculating the average "
   ]
  },
  {
   "cell_type": "code",
   "execution_count": 372,
   "metadata": {},
   "outputs": [],
   "source": [
    "top_ranked_words = tf_idf_rank['word'].tolist()"
   ]
  },
  {
   "cell_type": "code",
   "execution_count": 373,
   "metadata": {},
   "outputs": [],
   "source": [
    "#first let's add a sentement column to our dataframe\n",
    "# 1 get the review\n",
    "# 2 get the sentense that has the word you are looking for\n",
    "# 3 calculate the sintement for that sentence\n",
    "# 4 add the value of the sentement to a list\n",
    "from textblob import TextBlob\n",
    "\n",
    "di = dict()\n",
    "for i in range(0, len(df)):\n",
    "    sents = df.iloc[i]['Review_Text'].split('.')\n",
    "    #loop through the words in the top_ranked_words\n",
    "    for word in top_ranked_words:\n",
    "        # check if the word exist in any of the sentences\n",
    "        for sent in sents:\n",
    "            if word in sent:\n",
    "                #count setement value for each sentense. +1 is used to change the scale so we can calculate the mean\n",
    "                di[word] = di.get(word, []) + [TextBlob(sent).sentiment.polarity + 1]"
   ]
  },
  {
   "cell_type": "markdown",
   "metadata": {},
   "source": [
    "Finally, calculating the average of the sentiment values"
   ]
  },
  {
   "cell_type": "code",
   "execution_count": 374,
   "metadata": {},
   "outputs": [],
   "source": [
    "from statistics import mean\n",
    "\n",
    "for word in di.keys():\n",
    "    di[word] = mean(di[word])"
   ]
  },
  {
   "cell_type": "markdown",
   "metadata": {},
   "source": [
    "time to plot"
   ]
  },
  {
   "cell_type": "code",
   "execution_count": 375,
   "metadata": {},
   "outputs": [
    {
     "data": {
      "image/png": "[encoded data removed]",
      "text/plain": [
       "<Figure size 432x288 with 1 Axes>"
      ]
     },
     "metadata": {
      "needs_background": "light"
     },
     "output_type": "display_data"
    }
   ],
   "source": [
    "sentiment_values = pd.DataFrame.from_dict(di, orient='index', columns=['sentiment'])\n",
    "sentiment_values = sentiment_values.reset_index().rename(columns={\"index\": \"word\"}).sort_values(by='sentiment', ascending=False)\n",
    "\n",
    "ax2 = sns.barplot(x=\"sentiment\", y=\"word\", data=sentiment_values, palette=\"Blues_d\").set_title('Sentiment Value')"
   ]
  },
  {
   "cell_type": "markdown",
   "metadata": {},
   "source": [
    "With this graph we can see the degree of how much are peaple satisfied with each of the features. "
   ]
  },
  {
   "cell_type": "markdown",
   "metadata": {},
   "source": [
    "Thank you for reading, and I hope that you found some things that can be useful to you. Please reach out if you have any questions or suggestions. \n",
    "I will see you in part two, where we will implement prediction models and see if we can find any patterns in our data."
   ]
  },
  {
   "cell_type": "code",
   "execution_count": null,
   "metadata": {},
   "outputs": [],
   "source": []
  }
 ],
 "metadata": {
  "kernelspec": {
   "display_name": "Python 3",
   "language": "python",
   "name": "python3"
  },
  "language_info": {
   "codemirror_mode": {
    "name": "ipython",
    "version": 3
   },
   "file_extension": ".py",
   "mimetype": "text/x-python",
   "name": "python",
   "nbconvert_exporter": "python",
   "pygments_lexer": "ipython3",
   "version": "3.7.3"
  }
 },
 "nbformat": 4,
 "nbformat_minor": 4
}
